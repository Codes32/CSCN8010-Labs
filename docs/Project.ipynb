{
 "cells": [
  {
   "cell_type": "markdown",
   "metadata": {},
   "source": [
    "## Loading the dataset"
   ]
  },
  {
   "cell_type": "code",
   "execution_count": null,
   "metadata": {},
   "outputs": [
    {
     "name": "stdout",
     "output_type": "stream",
     "text": [
      "DatasetDict({\n",
      "    train: Dataset({\n",
      "        features: ['image', 'label'],\n",
      "        num_rows: 4317\n",
      "    })\n",
      "})\n"
     ]
    }
   ],
   "source": [
    "from datasets import load_dataset\n",
    "dataset = load_dataset(\"nsarker/flower-detection\")\n",
    "print(dataset)\n"
   ]
  },
  {
   "cell_type": "code",
   "execution_count": 57,
   "metadata": {},
   "outputs": [],
   "source": [
    "import os\n",
    "import tensorflow as tf\n",
    "from pathlib import Path\n",
    "\n",
    "# Directory structure setup\n",
    "new_base_dir = Path(\"flower_photos_subset\")\n",
    "\n",
    "def make_subset(dataset, subset_name, start_index, end_index):\n",
    "    \"\"\"\n",
    "    Creates a subset of the dataset and saves it to disk in the specified directory structure.\n",
    "    \"\"\"\n",
    "    subset = dataset.select(range(start_index, end_index))  # Select a subset of the dataset\n",
    "    for i, data in enumerate(subset):\n",
    "        image = data['image']  # Access the image\n",
    "        label = data['label']  # Access the label (should be an integer or string)\n",
    "\n",
    "        # Define category folder (assumes labels are integers or can be converted to strings)\n",
    "        category = str(label)\n",
    "        dir_path = new_base_dir / subset_name / category\n",
    "        os.makedirs(dir_path, exist_ok=True)\n",
    "\n",
    "        # Save the image\n",
    "        image_path = dir_path / f\"image_{i + start_index}.jpg\"\n",
    "        tf.keras.utils.save_img(image_path, image)\n"
   ]
  },
  {
   "cell_type": "code",
   "execution_count": 58,
   "metadata": {},
   "outputs": [],
   "source": [
    "# Split the dataset into train, validation, and test subsets\n",
    "train_size = int(0.8 * len(dataset['train']))\n",
    "val_size = int(0.1 * len(dataset['train']))\n",
    "test_size = len(dataset['train']) - train_size - val_size\n",
    "\n",
    "# Create subsets\n",
    "make_subset(dataset['train'], \"train\", start_index=0, end_index=train_size)\n",
    "make_subset(dataset['train'], \"validation\", start_index=train_size, end_index=train_size + val_size)\n",
    "make_subset(dataset['train'], \"test\", start_index=train_size + val_size, end_index=train_size + val_size + test_size)\n"
   ]
  },
  {
   "cell_type": "code",
   "execution_count": 76,
   "metadata": {},
   "outputs": [
    {
     "name": "stdout",
     "output_type": "stream",
     "text": [
      "Found 904 files belonging to 5 classes.\n",
      "Found 113 files belonging to 5 classes.\n",
      "Found 113 files belonging to 5 classes.\n",
      "['0', '1', '2', '3', '4']\n"
     ]
    }
   ],
   "source": [
    "from tensorflow.keras.utils import image_dataset_from_directory\n",
    "\n",
    "# Base directory\n",
    "data_dir = new_base_dir\n",
    "\n",
    "# Load the datasets\n",
    "train_dataset = image_dataset_from_directory(\n",
    "    data_dir / \"train\",\n",
    "    image_size=(224, 224),  # Resize to 224x224\n",
    "    batch_size=32\n",
    ")\n",
    "\n",
    "validation_dataset = image_dataset_from_directory(\n",
    "    data_dir / \"validation\",\n",
    "    image_size=(224, 224),  # Resize to 224x224\n",
    "    batch_size=32\n",
    ")\n",
    "\n",
    "test_dataset = image_dataset_from_directory(\n",
    "    data_dir / \"test\",\n",
    "    image_size=(224, 224),  # Resize to 224x224\n",
    "    batch_size=32\n",
    ")\n",
    "\n",
    "\n",
    "class_names = train_dataset.class_names\n",
    "print(class_names)\n"
   ]
  },
  {
   "cell_type": "code",
   "execution_count": 77,
   "metadata": {},
   "outputs": [],
   "source": [
    "class_names = [0, 1,2,3,4] "
   ]
  },
  {
   "cell_type": "code",
   "execution_count": 78,
   "metadata": {},
   "outputs": [],
   "source": [
    "normalization_layer = tf.keras.layers.Rescaling(1./255)\n",
    "\n",
    "train_dataset = train_dataset.map(lambda x, y: (normalization_layer(x), y))\n",
    "validation_dataset = validation_dataset.map(lambda x, y: (normalization_layer(x), y))\n",
    "test_dataset = test_dataset.map(lambda x, y: (normalization_layer(x), y))\n"
   ]
  },
  {
   "cell_type": "code",
   "execution_count": 79,
   "metadata": {},
   "outputs": [
    {
     "name": "stdout",
     "output_type": "stream",
     "text": [
      "{'image': Image(mode=None, decode=True, id=None), 'label': ClassLabel(names=['daisy', 'dandelion', 'rose', 'sunflower', 'tulip'], id=None)}\n"
     ]
    }
   ],
   "source": [
    "# Print the keys in the dataset\n",
    "print(dataset[\"train\"].features)\n"
   ]
  },
  {
   "cell_type": "code",
   "execution_count": 109,
   "metadata": {},
   "outputs": [
    {
     "name": "stdout",
     "output_type": "stream",
     "text": [
      "['daisy', 'dandelion', 'rose', 'sunflower', 'tulip']\n"
     ]
    }
   ],
   "source": [
    "# Define class names from the dataset features\n",
    "class_names = dataset[\"train\"].features[\"label\"].names\n",
    "print(class_names)"
   ]
  },
  {
   "cell_type": "code",
   "execution_count": 110,
   "metadata": {},
   "outputs": [
    {
     "ename": "AttributeError",
     "evalue": "'_MapDataset' object has no attribute 'class_names'",
     "output_type": "error",
     "traceback": [
      "\u001b[1;31m---------------------------------------------------------------------------\u001b[0m",
      "\u001b[1;31mAttributeError\u001b[0m                            Traceback (most recent call last)",
      "Cell \u001b[1;32mIn[110], line 4\u001b[0m\n\u001b[0;32m      1\u001b[0m \u001b[38;5;28;01mimport\u001b[39;00m \u001b[38;5;21;01mmatplotlib\u001b[39;00m\u001b[38;5;21;01m.\u001b[39;00m\u001b[38;5;21;01mpyplot\u001b[39;00m \u001b[38;5;28;01mas\u001b[39;00m \u001b[38;5;21;01mplt\u001b[39;00m\n\u001b[0;32m      3\u001b[0m \u001b[38;5;66;03m# Visualize a few images and their labels\u001b[39;00m\n\u001b[1;32m----> 4\u001b[0m class_names \u001b[38;5;241m=\u001b[39m \u001b[43mtrain_dataset\u001b[49m\u001b[38;5;241;43m.\u001b[39;49m\u001b[43mclass_names\u001b[49m\n\u001b[0;32m      6\u001b[0m plt\u001b[38;5;241m.\u001b[39mfigure(figsize\u001b[38;5;241m=\u001b[39m(\u001b[38;5;241m10\u001b[39m, \u001b[38;5;241m10\u001b[39m))\n\u001b[0;32m      7\u001b[0m \u001b[38;5;28;01mfor\u001b[39;00m images, labels \u001b[38;5;129;01min\u001b[39;00m train_dataset\u001b[38;5;241m.\u001b[39mtake(\u001b[38;5;241m1\u001b[39m):\n",
      "\u001b[1;31mAttributeError\u001b[0m: '_MapDataset' object has no attribute 'class_names'"
     ]
    }
   ],
   "source": [
    "import matplotlib.pyplot as plt\n",
    "\n",
    "# Visualize a few images and their labels\n",
    "class_names = train_dataset.class_names\n",
    "\n",
    "plt.figure(figsize=(10, 10))\n",
    "for images, labels in train_dataset.take(1):\n",
    "    for i in range(9):\n",
    "        ax = plt.subplot(3, 3, i + 1)\n",
    "        plt.imshow(images[i].numpy().astype(\"uint8\"))\n",
    "        plt.title(class_names[labels[i]])\n",
    "        plt.axis(\"off\")\n"
   ]
  },
  {
   "cell_type": "code",
   "execution_count": 102,
   "metadata": {},
   "outputs": [],
   "source": [
    "def convert_to_binary(images, labels):\n",
    "    binary_labels = tf.where(labels == 0, 1, 0)  # Class 0 becomes 1, others become 0\n",
    "    return images, binary_labels\n",
    "\n",
    "# Apply the transformation\n",
    "train_dataset = train_dataset.map(convert_to_binary)\n",
    "validation_dataset = validation_dataset.map(convert_to_binary)\n",
    "test_dataset = test_dataset.map(convert_to_binary)\n"
   ]
  },
  {
   "cell_type": "code",
   "execution_count": 103,
   "metadata": {},
   "outputs": [],
   "source": [
    "from tensorflow import keras\n",
    "from tensorflow.keras import layers\n",
    "import pathlib\n",
    "from tensorflow.keras.utils import image_dataset_from_directory\n",
    "import matplotlib.pyplot as plt"
   ]
  },
  {
   "cell_type": "code",
   "execution_count": 104,
   "metadata": {},
   "outputs": [
    {
     "name": "stdout",
     "output_type": "stream",
     "text": [
      "Model: \"model_6\"\n",
      "_________________________________________________________________\n",
      " Layer (type)                Output Shape              Param #   \n",
      "=================================================================\n",
      " input_7 (InputLayer)        [(None, 224, 224, 3)]     0         \n",
      "                                                                 \n",
      " rescaling_8 (Rescaling)     (None, 224, 224, 3)       0         \n",
      "                                                                 \n",
      " conv2d_42 (Conv2D)          (None, 222, 222, 32)      896       \n",
      "                                                                 \n",
      " max_pooling2d_36 (MaxPoolin  (None, 111, 111, 32)     0         \n",
      " g2D)                                                            \n",
      "                                                                 \n",
      " conv2d_43 (Conv2D)          (None, 109, 109, 64)      18496     \n",
      "                                                                 \n",
      " max_pooling2d_37 (MaxPoolin  (None, 54, 54, 64)       0         \n",
      " g2D)                                                            \n",
      "                                                                 \n",
      " conv2d_44 (Conv2D)          (None, 52, 52, 128)       73856     \n",
      "                                                                 \n",
      " max_pooling2d_38 (MaxPoolin  (None, 26, 26, 128)      0         \n",
      " g2D)                                                            \n",
      "                                                                 \n",
      " flatten_10 (Flatten)        (None, 86528)             0         \n",
      "                                                                 \n",
      " dense_14 (Dense)            (None, 1)                 86529     \n",
      "                                                                 \n",
      "=================================================================\n",
      "Total params: 179,777\n",
      "Trainable params: 179,777\n",
      "Non-trainable params: 0\n",
      "_________________________________________________________________\n"
     ]
    }
   ],
   "source": [
    "from tensorflow.keras import layers, models\n",
    "\n",
    "inputs = tf.keras.Input(shape=(224, 224, 3))\n",
    "x = layers.Rescaling(1./255)(inputs)\n",
    "x = layers.Conv2D(32, 3, activation=\"relu\")(x)\n",
    "x = layers.MaxPooling2D(2)(x)\n",
    "x = layers.Conv2D(64, 3, activation=\"relu\")(x)\n",
    "x = layers.MaxPooling2D(2)(x)\n",
    "x = layers.Conv2D(128, 3, activation=\"relu\")(x)\n",
    "x = layers.MaxPooling2D(2)(x)\n",
    "x = layers.Flatten()(x)\n",
    "outputs = layers.Dense(1, activation=\"sigmoid\")(x)  # Binary classification\n",
    "model = models.Model(inputs, outputs)\n",
    "\n",
    "# Compile the model\n",
    "model.compile(optimizer=\"adam\", loss=\"binary_crossentropy\", metrics=[\"accuracy\"])\n",
    "\n",
    "# Verify the model\n",
    "model.summary()\n"
   ]
  },
  {
   "cell_type": "code",
   "execution_count": 95,
   "metadata": {},
   "outputs": [
    {
     "name": "stdout",
     "output_type": "stream",
     "text": [
      "Model: \"model_5\"\n",
      "_________________________________________________________________\n",
      " Layer (type)                Output Shape              Param #   \n",
      "=================================================================\n",
      " input_6 (InputLayer)        [(None, 224, 224, 3)]     0         \n",
      "                                                                 \n",
      " rescaling_7 (Rescaling)     (None, 224, 224, 3)       0         \n",
      "                                                                 \n",
      " conv2d_37 (Conv2D)          (None, 222, 222, 32)      896       \n",
      "                                                                 \n",
      " max_pooling2d_32 (MaxPoolin  (None, 111, 111, 32)     0         \n",
      " g2D)                                                            \n",
      "                                                                 \n",
      " conv2d_38 (Conv2D)          (None, 109, 109, 64)      18496     \n",
      "                                                                 \n",
      " max_pooling2d_33 (MaxPoolin  (None, 54, 54, 64)       0         \n",
      " g2D)                                                            \n",
      "                                                                 \n",
      " conv2d_39 (Conv2D)          (None, 52, 52, 128)       73856     \n",
      "                                                                 \n",
      " max_pooling2d_34 (MaxPoolin  (None, 26, 26, 128)      0         \n",
      " g2D)                                                            \n",
      "                                                                 \n",
      " conv2d_40 (Conv2D)          (None, 24, 24, 256)       295168    \n",
      "                                                                 \n",
      " max_pooling2d_35 (MaxPoolin  (None, 12, 12, 256)      0         \n",
      " g2D)                                                            \n",
      "                                                                 \n",
      " conv2d_41 (Conv2D)          (None, 10, 10, 256)       590080    \n",
      "                                                                 \n",
      " flatten_9 (Flatten)         (None, 25600)             0         \n",
      "                                                                 \n",
      " dense_13 (Dense)            (None, 3)                 76803     \n",
      "                                                                 \n",
      "=================================================================\n",
      "Total params: 1,055,299\n",
      "Trainable params: 1,055,299\n",
      "Non-trainable params: 0\n",
      "_________________________________________________________________\n"
     ]
    }
   ],
   "source": [
    "from tensorflow.keras import layers, models\n",
    "\n",
    "inputs = tf.keras.Input(shape=(224, 224, 3))  # Ensure input shape matches your dataset\n",
    "x = layers.Rescaling(1./255)(inputs)\n",
    "x = layers.Conv2D(32, 3, activation=\"relu\")(x)\n",
    "x = layers.MaxPooling2D(2)(x)\n",
    "x = layers.Conv2D(64, 3, activation=\"relu\")(x)\n",
    "x = layers.MaxPooling2D(2)(x)\n",
    "x = layers.Conv2D(128, 3, activation=\"relu\")(x)\n",
    "x = layers.MaxPooling2D(2)(x)\n",
    "x = layers.Conv2D(256, 3, activation=\"relu\")(x)\n",
    "x = layers.MaxPooling2D(2)(x)\n",
    "x = layers.Conv2D(256, 3, activation=\"relu\")(x)\n",
    "x = layers.Flatten()(x)\n",
    "# Output layer for multiclass classification\n",
    "outputs = layers.Dense(3, activation=\"softmax\")(x)  # Update output layer to 3 classes\n",
    "model = keras.Model(inputs=inputs, outputs=outputs)\n",
    "\n",
    "# Compile the model\n",
    "model.compile(optimizer=\"adam\", loss=\"sparse_categorical_crossentropy\", metrics=[\"accuracy\"])\n",
    "\n",
    "\n",
    "# Verify the model\n",
    "model.summary()\n"
   ]
  },
  {
   "cell_type": "code",
   "execution_count": 105,
   "metadata": {},
   "outputs": [
    {
     "name": "stdout",
     "output_type": "stream",
     "text": [
      "Epoch 1/10\n",
      "29/29 [==============================] - 16s 520ms/step - loss: 0.6892 - accuracy: 0.5542 - val_loss: 0.6817 - val_accuracy: 0.5752\n",
      "Epoch 2/10\n",
      "29/29 [==============================] - 15s 500ms/step - loss: 0.6884 - accuracy: 0.5708 - val_loss: 0.6863 - val_accuracy: 0.5752\n",
      "Epoch 3/10\n",
      "29/29 [==============================] - 15s 501ms/step - loss: 0.6822 - accuracy: 0.5708 - val_loss: 0.6843 - val_accuracy: 0.5752\n",
      "Epoch 4/10\n",
      "29/29 [==============================] - 15s 500ms/step - loss: 0.6883 - accuracy: 0.5708 - val_loss: 0.6830 - val_accuracy: 0.5752\n",
      "Epoch 5/10\n",
      "29/29 [==============================] - 59s 2s/step - loss: 0.6838 - accuracy: 0.5708 - val_loss: 0.6818 - val_accuracy: 0.5752\n",
      "Epoch 6/10\n",
      "29/29 [==============================] - 73s 2s/step - loss: 0.6836 - accuracy: 0.5708 - val_loss: 0.6819 - val_accuracy: 0.5752\n",
      "Epoch 7/10\n",
      "29/29 [==============================] - 40s 1s/step - loss: 0.6839 - accuracy: 0.5708 - val_loss: 0.6818 - val_accuracy: 0.5752\n",
      "Epoch 8/10\n",
      "29/29 [==============================] - 14s 480ms/step - loss: 0.6844 - accuracy: 0.5708 - val_loss: 0.6818 - val_accuracy: 0.5752\n",
      "Epoch 9/10\n",
      "29/29 [==============================] - 14s 477ms/step - loss: 0.6837 - accuracy: 0.5708 - val_loss: 0.6819 - val_accuracy: 0.5752\n",
      "Epoch 10/10\n",
      "29/29 [==============================] - 14s 481ms/step - loss: 0.6846 - accuracy: 0.5708 - val_loss: 0.6818 - val_accuracy: 0.5752\n"
     ]
    }
   ],
   "source": [
    "history = model.fit(train_dataset, validation_data=validation_dataset, epochs=10)\n"
   ]
  },
  {
   "cell_type": "code",
   "execution_count": 106,
   "metadata": {},
   "outputs": [
    {
     "name": "stdout",
     "output_type": "stream",
     "text": [
      "4/4 [==============================] - 0s 93ms/step - loss: 0.6687 - accuracy: 0.6195\n",
      "Test Accuracy: 0.62\n"
     ]
    }
   ],
   "source": [
    "test_loss, test_acc = model.evaluate(test_dataset)\n",
    "print(f\"Test Accuracy: {test_acc:.2f}\")\n"
   ]
  },
  {
   "cell_type": "code",
   "execution_count": 107,
   "metadata": {},
   "outputs": [
    {
     "data": {
      "image/png": "[encoded data removed]",
      "text/plain": [
       "<Figure size 640x480 with 1 Axes>"
      ]
     },
     "metadata": {},
     "output_type": "display_data"
    },
    {
     "data": {
      "image/png": "[encoded data removed]",
      "text/plain": [
       "<Figure size 640x480 with 1 Axes>"
      ]
     },
     "metadata": {},
     "output_type": "display_data"
    }
   ],
   "source": [
    "accuracy = history.history[\"accuracy\"]\n",
    "val_accuracy = history.history[\"val_accuracy\"]\n",
    "loss = history.history[\"loss\"]\n",
    "val_loss = history.history[\"val_loss\"]\n",
    "epochs = range(1, len(accuracy) + 1)\n",
    "plt.plot(epochs, accuracy, \"bo\", label=\"Training accuracy\")\n",
    "plt.plot(epochs, val_accuracy, \"b\", label=\"Validation accuracy\")\n",
    "plt.title(\"Training and validation accuracy\")\n",
    "plt.legend()\n",
    "plt.figure()\n",
    "plt.plot(epochs, loss, \"bo\", label=\"Training loss\")\n",
    "plt.plot(epochs, val_loss, \"b\", label=\"Validation loss\")\n",
    "plt.title(\"Training and validation loss\")\n",
    "plt.legend()\n",
    "plt.show()"
   ]
  }
 ],
 "metadata": {
  "kernelspec": {
   "display_name": "tensorflow_cpu",
   "language": "python",
   "name": "python3"
  },
  "language_info": {
   "codemirror_mode": {
    "name": "ipython",
    "version": 3
   },
   "file_extension": ".py",
   "mimetype": "text/x-python",
   "name": "python",
   "nbconvert_exporter": "python",
   "pygments_lexer": "ipython3",
   "version": "3.11.8"
  }
 },
 "nbformat": 4,
 "nbformat_minor": 2
}
